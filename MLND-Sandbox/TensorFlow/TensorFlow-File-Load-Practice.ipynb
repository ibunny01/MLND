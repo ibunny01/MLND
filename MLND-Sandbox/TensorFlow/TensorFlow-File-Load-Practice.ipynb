{
 "cells": [
  {
   "cell_type": "markdown",
   "metadata": {
    "ein.tags": [
     "worksheet-0"
    ],
    "slideshow": {
     "slide_type": "-"
    }
   },
   "source": [
    "# TensorFlow CSV File I/O"
   ]
  },
  {
   "cell_type": "code",
   "execution_count": 20,
   "metadata": {
    "autoscroll": "json-false",
    "collapsed": false,
    "ein.tags": [
     "worksheet-0"
    ],
    "slideshow": {
     "slide_type": "-"
    }
   },
   "outputs": [],
   "source": [
    "import tensorflow as tf"
   ]
  },
  {
   "cell_type": "markdown",
   "metadata": {
    "ein.tags": [
     "worksheet-0"
    ],
    "slideshow": {
     "slide_type": "-"
    }
   },
   "source": [
    "- https://www.tensorflow.org/api_docs/python/tf/decode_csv"
   ]
  },
  {
   "cell_type": "code",
   "execution_count": 21,
   "metadata": {
    "autoscroll": "json-false",
    "collapsed": false,
    "ein.tags": [
     "worksheet-0"
    ],
    "slideshow": {
     "slide_type": "-"
    }
   },
   "outputs": [],
   "source": [
    "\n",
    "with tf.name_scope('file_load') as file_load:\n",
    "    filename_queue = tf.train.string_input_producer(['test.csv',])\n",
    "    reader = tf.TextLineReader()\n",
    "    key, value = reader.read(filename_queue)\n",
    "\n",
    "    record_default = [ [1], [1], [1], [1], [1], [1], [1], [1], [1] ]\n",
    "    col1, col2, col3, col4, col5, col6, col7, col8, col9 = tf.decode_csv( value, record_defaults=record_default )\n",
    "    feature = tf.stack([col1, col2, col3, col4, col5, col6, col7, col8])\n"
   ]
  },
  {
   "cell_type": "code",
   "execution_count": 22,
   "metadata": {
    "autoscroll": "json-false",
    "collapsed": false,
    "ein.tags": [
     "worksheet-0"
    ],
    "slideshow": {
     "slide_type": "-"
    }
   },
   "outputs": [
    {
     "name": "stdout",
     "output_type": "stream",
     "text": [
      "example :  [ 0  1  2  3  4 -1  6  7]\n",
      "label   :  8\n",
      "example :  [11 12 -1 14 15 -1 17 18]\n",
      "label   :  19\n",
      "example :  [21 22 23 24 25 26 27 28]\n",
      "label   :  29\n",
      "example :  [31 32 33 34 35 36 37 38]\n",
      "label   :  39\n"
     ]
    }
   ],
   "source": [
    "\n",
    "with tf.Session() as sess:\n",
    "    merged = tf.summary.merge_all()\n",
    "    train_writer = tf.summary.FileWriter('./summaries2/', sess.graph)\n",
    "\n",
    "    # 텐서플로우는 기본적으로 멀티스레드를 가정하고 작성하기 때문에 파일 입출력을 쓰레드 처리와\n",
    "    # 결과를 join 하는 단계를 거쳐야한다.\n",
    "    coord = tf.train.Coordinator()\n",
    "    threads = tf.train.start_queue_runners(coord=coord)\n",
    "\n",
    "    for i in range(4):\n",
    "        example, label = sess.run([feature, col9])\n",
    "\n",
    "        print 'example : ', example\n",
    "        print 'label   : ', label\n",
    "\n",
    "    coord.request_stop()\n",
    "    coord.join(threads)\n"
   ]
  }
 ],
 "metadata": {
  "kernelspec": {
   "display_name": "Python 2",
   "name": "python2"
  },
  "name": "TensorFlow-File-Load-Practice.ipynb"
 },
 "nbformat": 4,
 "nbformat_minor": 2
}
