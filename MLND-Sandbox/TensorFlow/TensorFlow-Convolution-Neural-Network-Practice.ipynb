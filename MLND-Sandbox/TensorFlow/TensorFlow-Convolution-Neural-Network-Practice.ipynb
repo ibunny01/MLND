{
 "cells": [
  {
   "cell_type": "markdown",
   "metadata": {
    "ein.tags": [
     "worksheet-0"
    ],
    "slideshow": {
     "slide_type": "-"
    }
   },
   "source": [
    "# Building Simple CNN Networks"
   ]
  },
  {
   "cell_type": "markdown",
   "metadata": {
    "ein.tags": [
     "worksheet-0"
    ],
    "slideshow": {
     "slide_type": "-"
    }
   },
   "source": [
    "## Data Loading"
   ]
  },
  {
   "cell_type": "code",
   "execution_count": 4,
   "metadata": {
    "autoscroll": "json-false",
    "collapsed": false,
    "ein.tags": [
     "worksheet-0"
    ],
    "slideshow": {
     "slide_type": "-"
    }
   },
   "outputs": [],
   "source": [
    "import tensorflow as tf\n",
    "import os\n",
    "import numpy as np\n",
    "from PIL import Image"
   ]
  },
  {
   "cell_type": "markdown",
   "metadata": {
    "ein.tags": [
     "worksheet-0"
    ],
    "slideshow": {
     "slide_type": "-"
    }
   },
   "source": [
    "- docs: https://www.tensorflow.org/api_docs/python/tf/WholeFileReader"
   ]
  },
  {
   "cell_type": "code",
   "execution_count": 5,
   "metadata": {
    "autoscroll": "json-false",
    "collapsed": false,
    "ein.tags": [
     "worksheet-0"
    ],
    "slideshow": {
     "slide_type": "-"
    }
   },
   "outputs": [],
   "source": [
    "# 현재 디렉토리를 이용해서 파일 이름을 확인한다.\n",
    "# for dir in os.listdir(os.getcwd()):\n",
    "#     print dir"
   ]
  },
  {
   "cell_type": "code",
   "execution_count": 6,
   "metadata": {
    "autoscroll": "json-false",
    "collapsed": false,
    "ein.tags": [
     "worksheet-0"
    ],
    "slideshow": {
     "slide_type": "-"
    }
   },
   "outputs": [],
   "source": [
    "image_path1 = os.getcwd() + '/image.png'\n",
    "image_path2 = os.getcwd() + '/image-grayscaled.png'\n",
    "label_path1 = os.getcwd() + '/label1.csv'\n",
    "label_path2 = os.getcwd() + '/label2.csv'\n",
    "\n",
    "filename_list = [image_path1, image_path2]\n",
    "labelname_list = [label_path1, label_path2]\n",
    "\n",
    "filename_queue = tf.train.string_input_producer(filename_list)\n",
    "labelname_queue = tf.train.string_input_producer(labelname_list)\n"
   ]
  },
  {
   "cell_type": "code",
   "execution_count": 7,
   "metadata": {
    "autoscroll": "json-false",
    "collapsed": false,
    "ein.tags": [
     "worksheet-0"
    ],
    "slideshow": {
     "slide_type": "-"
    }
   },
   "outputs": [],
   "source": [
    "image_reader = tf.WholeFileReader()\n",
    "label_reader = tf.TextLineReader()\n",
    "\n",
    "image_key, image_value = image_reader.read(filename_queue)\n",
    "label_key, label_value = label_reader.read(labelname_queue)"
   ]
  },
  {
   "cell_type": "code",
   "execution_count": 10,
   "metadata": {
    "autoscroll": "json-false",
    "collapsed": false,
    "ein.tags": [
     "worksheet-0"
    ],
    "slideshow": {
     "slide_type": "-"
    }
   },
   "outputs": [
    {
     "name": "stdout",
     "output_type": "stream",
     "text": [
      "/Users/johnpark82/workspace/MLND/MLND-Sandbox/TensorFlow/image.png\n",
      "/Users/johnpark82/workspace/MLND/MLND-Sandbox/TensorFlow/label2.csv:1\n"
     ]
    }
   ],
   "source": [
    "with tf.Session() as sess:\n",
    "    coord = tf.train.Coordinator()\n",
    "    thread = tf.train.start_queue_runners(sess=sess, coord=coord)\n",
    "\n",
    "    _image_key, _label_key = sess.run([image_key, label_key])\n",
    "\n",
    "    print _image_key\n",
    "    print _label_key\n",
    "\n",
    "    coord.request_stop()\n",
    "    coord.join(thread)"
   ]
  },
  {
   "cell_type": "markdown",
   "metadata": {
    "ein.tags": [
     "worksheet-0"
    ],
    "slideshow": {
     "slide_type": "-"
    }
   },
   "source": [
    "- Encoding and Decoding : https://www.tensorflow.org/api_guides/python/image"
   ]
  },
  {
   "cell_type": "code",
   "execution_count": 11,
   "metadata": {
    "autoscroll": "json-false",
    "collapsed": false,
    "ein.tags": [
     "worksheet-0"
    ],
    "slideshow": {
     "slide_type": "slide"
    }
   },
   "outputs": [],
   "source": [
    "images = tf.image.decode_png( image_value )\n",
    "label = tf.decode_csv( label_value, record_defaults=[[0]])\n",
    "\n",
    "x = tf.cast(images, tf.float32)\n",
    "y_ = tf.cast(label, tf.float32)\n"
   ]
  },
  {
   "cell_type": "code",
   "execution_count": 12,
   "metadata": {
    "autoscroll": "json-false",
    "collapsed": false,
    "ein.tags": [
     "worksheet-0"
    ],
    "slideshow": {
     "slide_type": "-"
    }
   },
   "outputs": [
    {
     "name": "stdout",
     "output_type": "stream",
     "text": [
      "Tensor(\"Cast:0\", shape=(?, ?, ?), dtype=float32)\n",
      "Tensor(\"Cast_1:0\", shape=(1,), dtype=float32)\n"
     ]
    }
   ],
   "source": [
    "print x\n",
    "print y_"
   ]
  },
  {
   "cell_type": "markdown",
   "metadata": {
    "ein.tags": [
     "worksheet-0"
    ],
    "slideshow": {
     "slide_type": "-"
    }
   },
   "source": [
    "## Build Neural Network"
   ]
  },
  {
   "cell_type": "markdown",
   "metadata": {
    "ein.tags": [
     "worksheet-0"
    ],
    "slideshow": {
     "slide_type": "-"
    }
   },
   "source": [
    "- Reference : https://www.tensorflow.org/get_started/mnist/pros"
   ]
  },
  {
   "cell_type": "markdown",
   "metadata": {
    "ein.tags": [
     "worksheet-0"
    ],
    "slideshow": {
     "slide_type": "-"
    }
   },
   "source": [
    "### Placeholder - Input Data Tensor"
   ]
  },
  {
   "cell_type": "code",
   "execution_count": 13,
   "metadata": {
    "autoscroll": "json-false",
    "collapsed": false,
    "ein.tags": [
     "worksheet-0"
    ],
    "slideshow": {
     "slide_type": "-"
    }
   },
   "outputs": [],
   "source": [
    "image_width = 100\n",
    "image_height = 100\n",
    "image_channel = 3\n"
   ]
  },
  {
   "cell_type": "code",
   "execution_count": 14,
   "metadata": {
    "autoscroll": "json-false",
    "collapsed": false,
    "ein.tags": [
     "worksheet-0"
    ],
    "slideshow": {
     "slide_type": "-"
    }
   },
   "outputs": [],
   "source": [
    "#x = tf.placeholder( tf.float32, shape=[None, image_width, image_width, image_channel]  )\n",
    "# y_ = tf.placeholder( tf.float32, shape=[None, 2] )\n"
   ]
  },
  {
   "cell_type": "markdown",
   "metadata": {
    "ein.tags": [
     "worksheet-0"
    ],
    "slideshow": {
     "slide_type": "-"
    }
   },
   "source": [
    "### Variables - Weight Tensor"
   ]
  },
  {
   "cell_type": "code",
   "execution_count": 0,
   "metadata": {
    "autoscroll": "json-false",
    "collapsed": false,
    "ein.tags": [
     "worksheet-0"
    ],
    "slideshow": {
     "slide_type": "-"
    }
   },
   "outputs": [],
   "source": [
    "# Convolution Layer 1\n",
    "hidden1_w = tf.Variable( tf.truncated_normal([5, 5, image_channel, 32]) )\n",
    "hidden1_b = tf.Variable( tf.zeros([32]) )\n",
    "\n",
    "# Convolution Layer 2\n",
    "hidden2_w = tf.Variable(tf.truncated_normal([5, 5, 3, 64])) # \n",
    "hidden2_b = tf.Variable(tf.zeros([64]))\n",
    "\n",
    "# Densely Connected Layer\n",
    "fully_connected_w = tf.Variable(tf.truncated_normal([image_width*image_height*64, 1024]))\n",
    "fully_connected_b = tf.Variable(tf.zeros([1024]))"
   ]
  },
  {
   "cell_type": "code",
   "execution_count": 17,
   "metadata": {
    "autoscroll": "json-false",
    "collapsed": false,
    "ein.tags": [
     "worksheet-0"
    ],
    "slideshow": {
     "slide_type": "-"
    }
   },
   "outputs": [],
   "source": [
    "# Conv Layer 1\n",
    "x_image = tf.reshape(x, [-1, image_width, image_height,3])\n",
    "y_ = tf.reshape(y_, [-1, 1])\n",
    "\n",
    "hidden1_layer = tf.nn.rely(tf.nn.conv2d(x_image, hidden1_w, strides=[1, 1, 1, 1], padding='SAME') + hidden1_b)\n",
    "\n",
    "# Conv Layer 2\n",
    "hidden2_layer = tf.nn.relu(tf.nn.conv2d(x_image, hidden2_w, strides=[1, 1, 1, 1], padding='SAME') + hidden2_b)\n",
    "\n",
    "# Conv Layer 3\n",
    "hidden_pool2_flat = tf.reshape(hidden2_layer, [-1, image_width*image_height*64])\n"
   ]
  },
  {
   "cell_type": "code",
   "execution_count": 18,
   "metadata": {
    "autoscroll": "json-false",
    "collapsed": false,
    "ein.tags": [
     "worksheet-0"
    ],
    "slideshow": {
     "slide_type": "-"
    }
   },
   "outputs": [],
   "source": [
    "\n",
    "hidden_fully_connected = tf.nn.relu(tf.matmul(hidden_pool2_flat, fully_connected_w) + fully_connected_b)\n"
   ]
  },
  {
   "cell_type": "markdown",
   "metadata": {
    "ein.tags": [
     "worksheet-0"
    ],
    "slideshow": {
     "slide_type": "-"
    }
   },
   "source": [
    "- Convolution 네트워크는 종료되고 Feed Forward Neural Network"
   ]
  },
  {
   "cell_type": "code",
   "execution_count": 26,
   "metadata": {
    "autoscroll": "json-false",
    "collapsed": false,
    "ein.tags": [
     "worksheet-0"
    ],
    "slideshow": {
     "slide_type": "-"
    }
   },
   "outputs": [],
   "source": [
    "# 원래는 DROPOUT 단계를 한번더 거치게 된다."
   ]
  },
  {
   "cell_type": "code",
   "execution_count": 20,
   "metadata": {
    "autoscroll": "json-false",
    "collapsed": false,
    "ein.tags": [
     "worksheet-0"
    ],
    "slideshow": {
     "slide_type": "-"
    }
   },
   "outputs": [],
   "source": [
    "# Readout Layer\n",
    "output_w = tf.Variable(tf.truncated_normal([1024, 1]))\n",
    "output_b = tf.Variable(tf.zeros([1]))\n",
    "\n",
    "prediction = tf.matmul(hidden_fully_connected, output_w) + output_b # \n"
   ]
  },
  {
   "cell_type": "code",
   "execution_count": 21,
   "metadata": {
    "autoscroll": "json-false",
    "collapsed": false,
    "ein.tags": [
     "worksheet-0"
    ],
    "slideshow": {
     "slide_type": "-"
    }
   },
   "outputs": [],
   "source": [
    "# Calculate loss (Evaluate performance) and doing back propagation\n",
    "cross_entropy = tf.reduce_mean( tf.nn.softmax_cross_entropy_with_logits( labels=y_, logits= prediction ) )\n",
    "train_step = tf.train.AdamOptimizer(1e-4).minimize(cross_entropy)\n"
   ]
  },
  {
   "cell_type": "code",
   "execution_count": 25,
   "metadata": {
    "autoscroll": "json-false",
    "collapsed": false,
    "ein.tags": [
     "worksheet-0"
    ],
    "slideshow": {
     "slide_type": "-"
    }
   },
   "outputs": [],
   "source": [
    "correct_prediction = tf.equal(tf.argmax(prediction, 1), tf.argmax(y_, 1))\n",
    "accuracy = tf.reduce_mean(tf.cast(correct_prediction, tf.float32))\n"
   ]
  },
  {
   "cell_type": "markdown",
   "metadata": {
    "ein.tags": [
     "worksheet-0"
    ],
    "slideshow": {
     "slide_type": "-"
    }
   },
   "source": [
    "# Preprocessing - Test for showing the images"
   ]
  },
  {
   "cell_type": "code",
   "execution_count": 23,
   "metadata": {
    "autoscroll": "json-false",
    "collapsed": false,
    "ein.tags": [
     "worksheet-0"
    ],
    "slideshow": {
     "slide_type": "-"
    }
   },
   "outputs": [
    {
     "name": "stdout",
     "output_type": "stream",
     "text": [
      "----------\n",
      "loss:  0.0\n",
      "accuracy:  1.0\n",
      "Convolution Network Training is done\n"
     ]
    },
    {
     "name": "stdout",
     "output_type": "stream",
     "text": [
      "----------\n",
      "loss:  0.0\n",
      "accuracy:  1.0\n"
     ]
    },
    {
     "name": "stdout",
     "output_type": "stream",
     "text": [
      "----------\n",
      "loss:  0.0\n",
      "accuracy:  1.0\n"
     ]
    },
    {
     "name": "stdout",
     "output_type": "stream",
     "text": [
      "----------\n",
      "loss:  0.0\n",
      "accuracy:  1.0\n"
     ]
    },
    {
     "name": "stdout",
     "output_type": "stream",
     "text": [
      "----------\n",
      "loss:  0.0\n",
      "accuracy:  1.0\n"
     ]
    },
    {
     "name": "stdout",
     "output_type": "stream",
     "text": [
      "----------\n",
      "loss:  0.0\n",
      "accuracy:  1.0\n"
     ]
    },
    {
     "name": "stdout",
     "output_type": "stream",
     "text": [
      "----------\n",
      "loss:  0.0\n",
      "accuracy:  1.0\n"
     ]
    },
    {
     "name": "stdout",
     "output_type": "stream",
     "text": [
      "----------\n",
      "loss:  0.0\n",
      "accuracy:  1.0\n"
     ]
    },
    {
     "name": "stdout",
     "output_type": "stream",
     "text": [
      "----------\n",
      "loss:  0.0\n",
      "accuracy:  1.0\n"
     ]
    },
    {
     "name": "stdout",
     "output_type": "stream",
     "text": [
      "----------\n",
      "loss:  0.0\n",
      "accuracy:  1.0\n"
     ]
    }
   ],
   "source": [
    "with tf.Session() as sess:\n",
    "    coord = tf.train.Coordinator()\n",
    "    thread = tf.train.start_queue_runners(sess, coord)\n",
    "\n",
    "    # CNN학습을 진행한다.\n",
    "    sess.run(tf.global_variables_initializer())\n",
    "\n",
    "    for i in range(10):\n",
    "        _loss, _accuracy = sess.run([cross_entropy, accuracy])\n",
    "        print \"----------\"\n",
    "        print \"loss: \", _loss\n",
    "        print \"accuracy: \", _accuracy\n",
    "\n",
    "    coord.request_stop()\n",
    "    coord.join()\n",
    "    print 'Convolution Network Training is done'\n",
    "\n",
    "sess.close()\n"
   ]
  },
  {
   "cell_type": "code",
   "execution_count": 24,
   "metadata": {
    "autoscroll": "json-false",
    "collapsed": false,
    "ein.tags": [
     "worksheet-0"
    ],
    "slideshow": {
     "slide_type": "-"
    }
   },
   "outputs": [
    {
     "data": {
      "image/png": "[encoded data removed]",
      "text/plain": [
       "<matplotlib.figure.Figure at 0x10c896590>"
      ]
     },
     "metadata": {},
     "output_type": "display_data"
    },
    {
     "name": "stdout",
     "output_type": "stream",
     "text": [
      "0\n",
      "1\n"
     ]
    }
   ],
   "source": [
    "%matplotlib inline\n",
    "import matplotlib.pyplot as plt\n",
    "\n",
    "with tf.Session() as sess:\n",
    "    coord = tf.train.Coordinator()\n",
    "    thread = tf.train.start_queue_runners(sess, coord)\n",
    "\n",
    "    # 입력받은 이미지를 출력한다.\n",
    "    fig = plt.figure()\n",
    "\n",
    "    for i in range(len(filename_list)):\n",
    "        image = sess.run( images )\n",
    "\n",
    "        original = Image.fromarray(image)\n",
    "        fig.add_subplot(2,1,i+1)\n",
    "        imgplot = plt.imshow(np.asarray(original))\n",
    "\n",
    "        print i\n",
    "\n",
    "    coord.request_stop()\n",
    "    coord.join()\n",
    "\n",
    "sess.close()\n"
   ]
  },
  {
   "cell_type": "markdown",
   "metadata": {
    "ein.tags": [
     "worksheet-0"
    ],
    "slideshow": {
     "slide_type": "-"
    }
   },
   "source": [
    "- 컴퓨터의 벡터 연산과 수학에서 표현하는 벡터간의 표현차이"
   ]
  },
  {
   "cell_type": "code",
   "execution_count": 0,
   "metadata": {
    "autoscroll": "json-false",
    "collapsed": false,
    "ein.tags": [
     "worksheet-0"
    ],
    "slideshow": {
     "slide_type": "-"
    }
   },
   "outputs": [],
   "source": [
    "import numpy as np\n",
    "\n",
    "vector_in_computer = [[1,2,3,4,5], [6,7,8,9,10]]\n",
    "print vector_in_computer\n",
    "print np.shape(vector_in_computer)\n",
    "\n",
    "vector_in_math = [[1], [2], [3], [4], [5]]\n",
    "print vector_in_math\n",
    "print np.shape(vector_in_math)\n"
   ]
  }
 ],
 "metadata": {
  "kernelspec": {
   "display_name": "Python 2",
   "name": "python2"
  },
  "name": "TensorFlow-Convolution-Neural-Network-Practice.ipynb"
 },
 "nbformat": 4,
 "nbformat_minor": 2
}
