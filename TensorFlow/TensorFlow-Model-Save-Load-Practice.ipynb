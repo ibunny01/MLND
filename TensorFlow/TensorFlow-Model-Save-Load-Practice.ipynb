{
 "cells": [
  {
   "cell_type": "markdown",
   "metadata": {
    "ein.tags": [
     "worksheet-0"
    ],
    "slideshow": {
     "slide_type": "-"
    }
   },
   "source": [
    "# Model Save & Restore\n",
    "- 어플리케이션을 개발하는 것과 마찬가지로 텐서플로우로 학습 모델을 만들때에도 운영 환경을 고려하게 된다.\n",
    "- 즉, 실제 데이터를 가지고 예측 모델을 만드는 과정을 거쳐서 나온 예측 함수를 매번 새로 학습시키는 것이 아니라 만들어진 모델에 맞는 데이터를 저장해서 그냥 쓰게 만드는 것이다.\n",
    "- 이 예제는 기존에 학습하고 저장한 모델 정보를 불러와서 운영 환경에서 사용할 수 있게 모델을 복원하는 역할을 한다."
   ]
  },
  {
   "cell_type": "code",
   "execution_count": 2,
   "metadata": {
    "autoscroll": "json-false",
    "collapsed": false,
    "ein.tags": [
     "worksheet-0"
    ],
    "slideshow": {
     "slide_type": "-"
    }
   },
   "outputs": [],
   "source": [
    "import tensorflow as tf\n",
    "import numpy as np"
   ]
  },
  {
   "cell_type": "code",
   "execution_count": 3,
   "metadata": {
    "autoscroll": "json-false",
    "collapsed": false,
    "ein.tags": [
     "worksheet-0"
    ],
    "slideshow": {
     "slide_type": "-"
    }
   },
   "outputs": [],
   "source": [
    "input_data = [[1,5,3,7,8,10,12],\n",
    "              [5,8,10,3,9,7,1]]\n",
    "label_data = [[0,0,0,1,0],\n",
    "              [1,0,0,0,0]]"
   ]
  },
  {
   "cell_type": "code",
   "execution_count": 4,
   "metadata": {
    "autoscroll": "json-false",
    "collapsed": false,
    "ein.tags": [
     "worksheet-0"
    ],
    "slideshow": {
     "slide_type": "-"
    }
   },
   "outputs": [],
   "source": [
    "INPUT_SIZE = 7\n",
    "HIDDEN1_LAYER_SIZE = 10\n",
    "HIDDEN2_LAYER_SIZE = 8\n",
    "CLASSES = 5\n",
    "LEARNING_RATE = 0.5"
   ]
  },
  {
   "cell_type": "markdown",
   "metadata": {
    "ein.tags": [
     "worksheet-0"
    ],
    "slideshow": {
     "slide_type": "-"
    }
   },
   "source": [
    "- 데이터를 텐서로 변환하는 작업을 진행한다.\n",
    "- 텐서에서 shape 의 첫번째는 배치사이즈로 보통 정의한다.\n",
    "- 보통 배치 사이즈를 사전에 알기는 어렵기 때문에 None 으로 정의하기도 한다."
   ]
  },
  {
   "cell_type": "code",
   "execution_count": 5,
   "metadata": {
    "autoscroll": "json-false",
    "collapsed": false,
    "ein.tags": [
     "worksheet-0"
    ],
    "slideshow": {
     "slide_type": "-"
    }
   },
   "outputs": [],
   "source": [
    "x = tf.placeholder( tf.float32, shape=[None, INPUT_SIZE])\n",
    "y_ = tf.placeholder( tf.float32, shape=[None, CLASSES])"
   ]
  },
  {
   "cell_type": "code",
   "execution_count": 6,
   "metadata": {
    "autoscroll": "json-false",
    "collapsed": false,
    "ein.tags": [
     "worksheet-0"
    ],
    "slideshow": {
     "slide_type": "-"
    }
   },
   "outputs": [],
   "source": [
    "tensor_map  = {x: input_data, y_:label_data}"
   ]
  },
  {
   "cell_type": "markdown",
   "metadata": {
    "ein.tags": [
     "worksheet-0"
    ],
    "slideshow": {
     "slide_type": "-"
    }
   },
   "source": [
    "https://www.tensorflow.org/api_docs/python/tf/truncated_normal\n",
    "\n",
    "The generated values follow a normal distribution with specified mean\n",
    "and standard deviation, except that values whose magnitude is more\n",
    "than 2 standard deviations from the mean are dropped and re-picked.\n",
    "\n",
    "https://www.tensorflow.org/api_docs/python/tf/zeros"
   ]
  },
  {
   "cell_type": "code",
   "execution_count": 9,
   "metadata": {
    "autoscroll": "json-false",
    "collapsed": false,
    "ein.tags": [
     "worksheet-0"
    ],
    "slideshow": {
     "slide_type": "-"
    }
   },
   "outputs": [],
   "source": [
    "weight_hidden1 = tf.Variable( tf.truncated_normal( shape=[INPUT_SIZE, HIDDEN1_LAYER_SIZE]\n",
    ", dtype=tf.float32) ) #\n",
    "bias_hidden1 = tf.Variable( tf.zeros([HIDDEN1_LAYER_SIZE]), dtype=tf.float32)\n",
    "\n",
    "weight_hidden2 = tf.Variable( tf.truncated_normal( shape=[HIDDEN1_LAYER_SIZE, HIDDEN2_LAYER_SIZE], dtype=tf.float32) )\n",
    "bias_hidden2 = tf.Variable( tf.zeros([HIDDEN2_LAYER_SIZE]), dtype=tf.float32)\n",
    "\n",
    "weight_output = tf.Variable( tf.truncated_normal( shape=[HIDDEN2_LAYER_SIZE, CLASSES], dtype=tf.float32) ) #\n",
    "bias_output = tf.Variable( tf.zeros([CLASSES]), dtype=tf.float32)"
   ]
  },
  {
   "cell_type": "code",
   "execution_count": 10,
   "metadata": {
    "autoscroll": "json-false",
    "collapsed": false,
    "ein.tags": [
     "worksheet-0"
    ],
    "slideshow": {
     "slide_type": "-"
    }
   },
   "outputs": [],
   "source": [
    "parameter_list = [weight_hidden1, bias_hidden1, weight_hidden2, bias_hidden2, weight_output, bias_output]\n",
    "saver = tf.train.Saver(parameter_list)"
   ]
  },
  {
   "cell_type": "code",
   "execution_count": 13,
   "metadata": {
    "autoscroll": "json-false",
    "collapsed": false,
    "ein.tags": [
     "worksheet-0"
    ],
    "slideshow": {
     "slide_type": "-"
    }
   },
   "outputs": [],
   "source": [
    "hidden1 = tf.sigmoid(tf.matmul(x, weight_hidden1) + bias_hidden1)\n",
    "hidden2 = tf.sigmoid(tf.matmul(hidden1, weight_hidden2) + bias_hidden2)\n",
    "y = tf.sigmoid(tf.matmul(hidden2, weight_output) + bias_output)"
   ]
  },
  {
   "cell_type": "code",
   "execution_count": 19,
   "metadata": {
    "autoscroll": "json-false",
    "collapsed": false,
    "ein.tags": [
     "worksheet-0"
    ],
    "slideshow": {
     "slide_type": "-"
    }
   },
   "outputs": [],
   "source": [
    "sess = tf.Session()"
   ]
  },
  {
   "cell_type": "markdown",
   "metadata": {
    "ein.tags": [
     "worksheet-0"
    ],
    "slideshow": {
     "slide_type": "-"
    }
   },
   "source": [
    "# 기존의 방식대로 초기값 상태로 예측을 진행하면 정상적인 결과를 얻어오지 못한다."
   ]
  },
  {
   "cell_type": "code",
   "execution_count": 26,
   "metadata": {
    "autoscroll": "json-false",
    "collapsed": false,
    "ein.tags": [
     "worksheet-0"
    ],
    "slideshow": {
     "slide_type": "-"
    }
   },
   "outputs": [
    {
     "name": "stdout",
     "output_type": "stream",
     "text": [
      "[[ 0.55549502  0.61399895  0.39525995  0.58042097  0.77931082]\n",
      " [ 0.54080635  0.59290749  0.45076743  0.53675801  0.76859021]]\n"
     ]
    }
   ],
   "source": [
    "sess.run( tf.global_variables_initializer() )\n",
    "result = sess.run( y, tensor_map )\n",
    "print result\n"
   ]
  },
  {
   "cell_type": "markdown",
   "metadata": {
    "ein.tags": [
     "worksheet-0"
    ],
    "slideshow": {
     "slide_type": "-"
    }
   },
   "source": [
    "- https://www.tensorflow.org/api_docs/python/tf/train/Saver"
   ]
  },
  {
   "cell_type": "code",
   "execution_count": 27,
   "metadata": {
    "autoscroll": "json-false",
    "collapsed": false,
    "ein.tags": [
     "worksheet-0"
    ],
    "slideshow": {
     "slide_type": "-"
    }
   },
   "outputs": [
    {
     "name": "stdout",
     "output_type": "stream",
     "text": [
      "[[  3.03515606e-03   6.88230793e-04   5.21090406e-04   9.96888816e-01\n",
      "    3.42063780e-04]\n",
      " [  9.97143924e-01   4.23800724e-04   6.04767876e-04   2.94184452e-03\n",
      "    7.67644146e-04]]\n"
     ]
    }
   ],
   "source": [
    "# sess.run( tf.global_variables_initializer() )\n",
    "saver.restore(sess, './tensorflow.ckpt')\n",
    "result = sess.run( y, tensor_map )\n",
    "print result\n"
   ]
  },
  {
   "cell_type": "markdown",
   "metadata": {
    "ein.tags": [
     "worksheet-0"
    ],
    "slideshow": {
     "slide_type": "-"
    }
   },
   "source": [
    "- 체크포인트 값을 로드하는 과정중에 에러가 발생한다면 대부분의 경우는 텐서의 이름이 저장할때와 다르기 때문에 발생하는 경우가 많다."
   ]
  }
 ],
 "metadata": {},
 "nbformat": 4,
 "nbformat_minor": 2
}
