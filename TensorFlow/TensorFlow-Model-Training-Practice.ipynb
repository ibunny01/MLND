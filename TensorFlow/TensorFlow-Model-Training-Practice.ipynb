{
 "cells": [
  {
   "cell_type": "code",
   "execution_count": 55,
   "metadata": {
    "autoscroll": "json-false",
    "collapsed": false,
    "ein.tags": [
     "worksheet-0"
    ],
    "slideshow": {
     "slide_type": "-"
    }
   },
   "outputs": [],
   "source": [
    "import tensorflow as tf\n",
    "import numpy as np"
   ]
  },
  {
   "cell_type": "code",
   "execution_count": 56,
   "metadata": {
    "autoscroll": "json-false",
    "collapsed": false,
    "ein.tags": [
     "worksheet-0"
    ],
    "slideshow": {
     "slide_type": "-"
    }
   },
   "outputs": [],
   "source": [
    "input_data = [[1,5,3,7,8,10,12],\n",
    "              [5,8,10,3,9,7,1]]\n",
    "label_data = [[0,0,0,1,0],\n",
    "              [1,0,0,0,0]]"
   ]
  },
  {
   "cell_type": "code",
   "execution_count": 57,
   "metadata": {
    "autoscroll": "json-false",
    "collapsed": false,
    "ein.tags": [
     "worksheet-0"
    ],
    "slideshow": {
     "slide_type": "-"
    }
   },
   "outputs": [],
   "source": [
    "INPUT_SIZE = 7\n",
    "HIDDEN1_LAYER_SIZE = 10\n",
    "HIDDEN2_LAYER_SIZE = 8\n",
    "CLASSES = 5\n",
    "LEARNING_RATE = 0.5"
   ]
  },
  {
   "cell_type": "code",
   "execution_count": 58,
   "metadata": {
    "autoscroll": "json-false",
    "collapsed": false,
    "ein.tags": [
     "worksheet-0"
    ],
    "slideshow": {
     "slide_type": "-"
    }
   },
   "outputs": [],
   "source": [
    "# 데이터를 텐서로 변환하는 작업을 진행한다.\n",
    "\n",
    "# 텐서에서 shape 의 첫번째는 배치사이즈로 보통 정의한다.\n",
    "# 보통 배치 사이즈를 사전에 알기는 어렵기 때문에 None 으로 정의하기도 한다.\n",
    "x = tf.placeholder( tf.float32, shape=[None, INPUT_SIZE])\n",
    "y_ = tf.placeholder( tf.float32, shape=[None, CLASSES])\n"
   ]
  },
  {
   "cell_type": "code",
   "execution_count": 59,
   "metadata": {
    "autoscroll": "json-false",
    "collapsed": false,
    "ein.tags": [
     "worksheet-0"
    ],
    "slideshow": {
     "slide_type": "-"
    }
   },
   "outputs": [],
   "source": [
    "tensor_map  = {x: input_data, y_:label_data}"
   ]
  },
  {
   "cell_type": "code",
   "execution_count": 60,
   "metadata": {
    "autoscroll": "json-false",
    "collapsed": false,
    "ein.tags": [
     "worksheet-0"
    ],
    "slideshow": {
     "slide_type": "-"
    }
   },
   "outputs": [],
   "source": [
    "# https://www.tensorflow.org/api_docs/python/tf/truncated_normal\n",
    "# The generated values follow a normal distribution with specified mean\n",
    "#  and standard deviation, except that values whose magnitude is more\n",
    "#  than 2 standard deviations from the mean are dropped and re-picked.\n",
    "\n",
    "weight_hidden1 = tf.Variable( tf.truncated_normal( shape=[INPUT_SIZE, HIDDEN1_LAYER_SIZE], dtype=tf.float32) ) # \n",
    "\n",
    "# https://www.tensorflow.org/api_docs/python/tf/zeros\n",
    "bias_hidden1 = tf.Variable( tf.zeros([HIDDEN1_LAYER_SIZE]), dtype=tf.float32)"
   ]
  },
  {
   "cell_type": "code",
   "execution_count": 61,
   "metadata": {
    "autoscroll": "json-false",
    "collapsed": false,
    "ein.tags": [
     "worksheet-0"
    ],
    "slideshow": {
     "slide_type": "-"
    }
   },
   "outputs": [],
   "source": [
    "# 연산자의 그래프 정보를 보여준다.\n",
    "# https://www.tensorflow.org/api_docs/python/tf/sigmoid\n",
    "\n",
    "hidden1 = tf.sigmoid(tf.matmul(x, weight_hidden1) + bias_hidden1)\n",
    "\n",
    "# print x\n",
    "# print weight_hidden1"
   ]
  },
  {
   "cell_type": "code",
   "execution_count": 62,
   "metadata": {
    "autoscroll": "json-false",
    "collapsed": false,
    "ein.tags": [
     "worksheet-0"
    ],
    "slideshow": {
     "slide_type": "-"
    }
   },
   "outputs": [],
   "source": [
    "weight_hidden2 = tf.Variable( tf.truncated_normal( shape=[HIDDEN1_LAYER_SIZE, HIDDEN2_LAYER_SIZE], dtype=tf.float32) ) # \n",
    "bias_hidden2 = tf.Variable( tf.zeros([HIDDEN2_LAYER_SIZE]), dtype=tf.float32)"
   ]
  },
  {
   "cell_type": "code",
   "execution_count": 63,
   "metadata": {
    "autoscroll": "json-false",
    "collapsed": false,
    "ein.tags": [
     "worksheet-0"
    ],
    "slideshow": {
     "slide_type": "-"
    }
   },
   "outputs": [],
   "source": [
    "hidden2 = tf.sigmoid(tf.matmul(hidden1, weight_hidden2) + bias_hidden2)"
   ]
  },
  {
   "cell_type": "code",
   "execution_count": 64,
   "metadata": {
    "autoscroll": "json-false",
    "collapsed": false,
    "ein.tags": [
     "worksheet-0"
    ],
    "slideshow": {
     "slide_type": "-"
    }
   },
   "outputs": [],
   "source": [
    "weight_output = tf.Variable( tf.truncated_normal( shape=[HIDDEN2_LAYER_SIZE, CLASSES], dtype=tf.float32) ) # \n",
    "bias_output = tf.Variable( tf.zeros([CLASSES]), dtype=tf.float32)\n"
   ]
  },
  {
   "cell_type": "code",
   "execution_count": 65,
   "metadata": {
    "autoscroll": "json-false",
    "collapsed": false,
    "ein.tags": [
     "worksheet-0"
    ],
    "slideshow": {
     "slide_type": "-"
    }
   },
   "outputs": [
    {
     "name": "stdout",
     "output_type": "stream",
     "text": [
      "Tensor(\"Sigmoid_11:0\", shape=(?, 5), dtype=float32)\n"
     ]
    }
   ],
   "source": [
    "y = tf.sigmoid(tf.matmul(hidden2, weight_output) + bias_output)\n",
    "\n",
    "# 텐서플로우에서는 연산자를 정의하게 돼면 해당 연산자가 그래프로 구성된다.\n",
    "# 아래와 같이 y라는 변수를 출력하면 + 연산자로 인해서 add 라는 그래프가 만들어져있다걸 알수 있다.\n",
    "print y"
   ]
  },
  {
   "cell_type": "code",
   "execution_count": 75,
   "metadata": {
    "autoscroll": "json-false",
    "collapsed": false,
    "ein.tags": [
     "worksheet-0"
    ],
    "slideshow": {
     "slide_type": "-"
    }
   },
   "outputs": [],
   "source": [
    "# cost = -y_ * tf.log(y) - (1-y_) * tf.log(1-y)\n",
    "\n",
    "# https://www.tensorflow.org/api_docs/python/tf/reduce_sum\n",
    "# cost = tf.reduce_sum(-y_ * tf.log(y) - (1-y_) * tf.log(1-y))\n",
    "\n",
    "# https://www.tensorflow.org/api_docs/python/tf/reduce_mean\n",
    "# cost = tf.reduce_mean(-y_ * tf.log(y) - (1-y_) * tf.log(1-y))\n",
    "\n",
    "# https://www.tensorflow.org/api_docs/python/tf/reduce_sum\n",
    "cost_ = -y_ * tf.log(y) - (1-y_) * tf.log(1-y)\n",
    "cost = tf.reduce_sum(-y_ * tf.log(y) - (1-y_) * tf.log(1-y), axis=1)\n",
    "\n",
    "train = tf.train.GradientDescentOptimizer(LEARNING_RATE).minimize(cost)"
   ]
  },
  {
   "cell_type": "code",
   "execution_count": 76,
   "metadata": {
    "autoscroll": "json-false",
    "collapsed": false,
    "ein.tags": [
     "worksheet-0"
    ],
    "slideshow": {
     "slide_type": "-"
    }
   },
   "outputs": [],
   "source": [
    "sess = tf.Session()"
   ]
  },
  {
   "cell_type": "code",
   "execution_count": 81,
   "metadata": {
    "autoscroll": "json-false",
    "collapsed": false,
    "ein.tags": [
     "worksheet-0"
    ],
    "slideshow": {
     "slide_type": "-"
    }
   },
   "outputs": [
    {
     "name": "stdout",
     "output_type": "stream",
     "text": [
      "[ 6.61485815  7.9005537 ]\n",
      "[[ 0.86124659  1.99155378  2.17291641  0.18600613  1.40313542]\n",
      " [ 0.53057206  2.02479005  2.09187913  1.83833516  1.41497731]]\n"
     ]
    }
   ],
   "source": [
    "# init = tf.initialize_all_variables()\n",
    "init = tf.global_variables_initializer()\n",
    "sess.run(init)\n",
    "\n",
    "loss, loss_ = sess.run([cost, cost_], feed_dict=tensor_map)\n",
    "\n",
    "print loss\n",
    "print loss_\n",
    "\n",
    "# sess.run(cost, feed_dict=tensor_map)\n",
    "# for i in range(1000):\n",
    "#     _, loss = sess.run([train, cost], feed_dict=tensor_map)\n",
    "\n",
    "#     if not i % 100:\n",
    "#         print \"Step: \", i\n",
    "#         print \"Loss: \", loss\n",
    "\n",
    "\n",
    "# 연산이 종료되면 세션은 반드시 종료한다.\n",
    "# sess.close()\n"
   ]
  },
  {
   "cell_type": "code",
   "execution_count": 69,
   "metadata": {
    "autoscroll": "json-false",
    "collapsed": false,
    "ein.tags": [
     "worksheet-0"
    ],
    "slideshow": {
     "slide_type": "-"
    }
   },
   "outputs": [],
   "source": [
    "# 컴퓨터 수치 연산라이브러리를 사용할 경우에는 가능하면 타입에 신경써서 해주는 것이 정확도를\n",
    "# 높이는데 중요하다. 타입을 쓰지 않아도 문제가 생기지 않을 수 있지만 정밀하게 결과를 예측하는\n",
    "# 경우에는 반드시 써야할 것이다."
   ]
  }
 ],
 "metadata": {},
 "nbformat": 4,
 "nbformat_minor": 2
}
