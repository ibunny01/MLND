{
 "cells": [
  {
   "cell_type": "code",
   "execution_count": 98,
   "metadata": {
    "autoscroll": "json-false",
    "collapsed": false,
    "ein.tags": [
     "worksheet-0"
    ],
    "slideshow": {
     "slide_type": "-"
    }
   },
   "outputs": [],
   "source": [
    "import tensorflow as tf\n",
    "import numpy as np"
   ]
  },
  {
   "cell_type": "code",
   "execution_count": 99,
   "metadata": {
    "autoscroll": "json-false",
    "collapsed": false,
    "ein.tags": [
     "worksheet-0"
    ],
    "slideshow": {
     "slide_type": "-"
    }
   },
   "outputs": [],
   "source": [
    "input_data = [[1,5,3,7,8,10,12]]\n",
    "label_data = [0,0,0,1,0]"
   ]
  },
  {
   "cell_type": "code",
   "execution_count": 100,
   "metadata": {
    "autoscroll": "json-false",
    "collapsed": false,
    "ein.tags": [
     "worksheet-0"
    ],
    "slideshow": {
     "slide_type": "-"
    }
   },
   "outputs": [],
   "source": [
    "INPUT_SIZE = 7\n",
    "HIDDEN1_LAYER_SIZE = 10\n",
    "HIDDEN2_LAYER_SIZE = 8\n",
    "CLASSES = 5"
   ]
  },
  {
   "cell_type": "code",
   "execution_count": 101,
   "metadata": {
    "autoscroll": "json-false",
    "collapsed": false,
    "ein.tags": [
     "worksheet-0"
    ],
    "slideshow": {
     "slide_type": "-"
    }
   },
   "outputs": [],
   "source": [
    "# 데이터를 텐서로 변환하는 작업을 진행한다.\n",
    "\n",
    "# 텐서에서 shape 의 첫번째는 배치사이즈로 보통 정의한다.\n",
    "# 보통 배치 사이즈를 사전에 알기는 어렵기 때문에 None 으로 정의하기도 한다.\n",
    "x = tf.placeholder( tf.float32, shape=[None, INPUT_SIZE])\n",
    "y_ = tf.placeholder( tf.float32, shape=[CLASSES])\n"
   ]
  },
  {
   "cell_type": "code",
   "execution_count": 102,
   "metadata": {
    "autoscroll": "json-false",
    "collapsed": false,
    "ein.tags": [
     "worksheet-0"
    ],
    "slideshow": {
     "slide_type": "-"
    }
   },
   "outputs": [],
   "source": [
    "tensor_map  = {x: input_data, y_:label_data}"
   ]
  },
  {
   "cell_type": "code",
   "execution_count": 103,
   "metadata": {
    "autoscroll": "json-false",
    "collapsed": false,
    "ein.tags": [
     "worksheet-0"
    ],
    "slideshow": {
     "slide_type": "-"
    }
   },
   "outputs": [],
   "source": [
    "# https://www.tensorflow.org/api_docs/python/tf/truncated_normal\n",
    "# The generated values follow a normal distribution with specified mean\n",
    "#  and standard deviation, except that values whose magnitude is more\n",
    "#  than 2 standard deviations from the mean are dropped and re-picked.\n",
    "\n",
    "weight_hidden1 = tf.Variable( tf.truncated_normal( shape=[INPUT_SIZE, HIDDEN1_LAYER_SIZE], dtype=tf.float32) ) # \n",
    "\n",
    "# https://www.tensorflow.org/api_docs/python/tf/zeros\n",
    "bias_hidden1 = tf.Variable( tf.zeros([HIDDEN1_LAYER_SIZE]), dtype=tf.float32)"
   ]
  },
  {
   "cell_type": "code",
   "execution_count": 104,
   "metadata": {
    "autoscroll": "json-false",
    "collapsed": false,
    "ein.tags": [
     "worksheet-0"
    ],
    "slideshow": {
     "slide_type": "-"
    }
   },
   "outputs": [],
   "source": [
    "# 연산자의 그래프 정보를 보여준다.\n",
    "# https://www.tensorflow.org/api_docs/python/tf/sigmoid\n",
    "\n",
    "hidden1 = tf.sigmoid(tf.matmul(x, weight_hidden1) + bias_hidden1)\n",
    "\n",
    "# print x\n",
    "# print weight_hidden1"
   ]
  },
  {
   "cell_type": "code",
   "execution_count": 105,
   "metadata": {
    "autoscroll": "json-false",
    "collapsed": false,
    "ein.tags": [
     "worksheet-0"
    ],
    "slideshow": {
     "slide_type": "-"
    }
   },
   "outputs": [],
   "source": [
    "weight_hidden2 = tf.Variable( tf.truncated_normal( shape=[HIDDEN1_LAYER_SIZE, HIDDEN2_LAYER_SIZE], dtype=tf.float32) ) # \n",
    "bias_hidden2 = tf.Variable( tf.zeros([HIDDEN2_LAYER_SIZE]), dtype=tf.float32)"
   ]
  },
  {
   "cell_type": "code",
   "execution_count": 106,
   "metadata": {
    "autoscroll": "json-false",
    "collapsed": false,
    "ein.tags": [
     "worksheet-0"
    ],
    "slideshow": {
     "slide_type": "-"
    }
   },
   "outputs": [],
   "source": [
    "hidden2 = tf.sigmoid(tf.matmul(hidden1, weight_hidden2) + bias_hidden2)"
   ]
  },
  {
   "cell_type": "code",
   "execution_count": 107,
   "metadata": {
    "autoscroll": "json-false",
    "collapsed": false,
    "ein.tags": [
     "worksheet-0"
    ],
    "slideshow": {
     "slide_type": "-"
    }
   },
   "outputs": [],
   "source": [
    "weight_output = tf.Variable( tf.truncated_normal( shape=[HIDDEN2_LAYER_SIZE, CLASSES], dtype=tf.float32) ) # \n",
    "bias_output = tf.Variable( tf.zeros([CLASSES]), dtype=tf.float32)\n"
   ]
  },
  {
   "cell_type": "code",
   "execution_count": 108,
   "metadata": {
    "autoscroll": "json-false",
    "collapsed": false,
    "ein.tags": [
     "worksheet-0"
    ],
    "slideshow": {
     "slide_type": "-"
    }
   },
   "outputs": [
    {
     "name": "stdout",
     "output_type": "stream",
     "text": [
      "Tensor(\"Sigmoid_9:0\", shape=(?, 5), dtype=float32)\n"
     ]
    }
   ],
   "source": [
    "y = tf.sigmoid(tf.matmul(hidden2, weight_output) + bias_output)\n",
    "\n",
    "# 텐서플로우에서는 연산자를 정의하게 돼면 해당 연산자가 그래프로 구성된다.\n",
    "# 아래와 같이 y라는 변수를 출력하면 + 연산자로 인해서 add 라는 그래프가 만들어져있다걸 알수 있다.\n",
    "print y"
   ]
  },
  {
   "cell_type": "code",
   "execution_count": 109,
   "metadata": {
    "autoscroll": "json-false",
    "collapsed": false,
    "ein.tags": [
     "worksheet-0"
    ],
    "slideshow": {
     "slide_type": "-"
    }
   },
   "outputs": [],
   "source": [
    "cost = -y_ * tf.log(y) - (1-y_) * tf.log(1-y)"
   ]
  },
  {
   "cell_type": "code",
   "execution_count": 110,
   "metadata": {
    "autoscroll": "json-false",
    "collapsed": false,
    "ein.tags": [
     "worksheet-0"
    ],
    "slideshow": {
     "slide_type": "-"
    }
   },
   "outputs": [],
   "source": [
    "sess = tf.Session()"
   ]
  },
  {
   "cell_type": "code",
   "execution_count": 111,
   "metadata": {
    "autoscroll": "json-false",
    "collapsed": false,
    "ein.tags": [
     "worksheet-0"
    ],
    "slideshow": {
     "slide_type": "-"
    }
   },
   "outputs": [
    {
     "data": {
      "text/plain": [
       "array([[ 2.12723517,  0.26010135,  0.26349664,  0.3703112 ,  0.98896801]], dtype=float32)"
      ]
     },
     "execution_count": 111,
     "metadata": {},
     "output_type": "execute_result"
    }
   ],
   "source": [
    "# init = tf.initialize_all_variables()\n",
    "init = tf.global_variables_initializer()\n",
    "sess.run(init)\n",
    "sess.run(cost, feed_dict=tensor_map)"
   ]
  }
 ],
 "metadata": {},
 "nbformat": 4,
 "nbformat_minor": 2
}
